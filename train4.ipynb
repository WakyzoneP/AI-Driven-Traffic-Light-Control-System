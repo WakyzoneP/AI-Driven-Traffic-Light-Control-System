{
 "cells": [
  {
   "cell_type": "code",
   "execution_count": null,
   "metadata": {},
   "outputs": [],
   "source": [
    "from agent import Agent\n",
    "\n",
    "agent = Agent(\"./config/config1.json\")\n",
    "results = agent.train(100, show_ui=False, show_plot=False, exploration_games_ratio=0.1)"
   ]
  }
 ],
 "metadata": {
  "language_info": {
   "name": "python"
  }
 },
 "nbformat": 4,
 "nbformat_minor": 2
}
