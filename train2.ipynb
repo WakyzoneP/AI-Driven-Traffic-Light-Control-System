{
 "cells": [
  {
   "cell_type": "code",
   "execution_count": 1,
   "metadata": {},
   "outputs": [
    {
     "name": "stdout",
     "output_type": "stream",
     "text": [
      "pygame 2.5.2 (SDL 2.28.3, Python 3.9.6)\n",
      "Hello from the pygame community. https://www.pygame.org/contribute.html\n",
      "5\n",
      "[<environment.objects.intersection.Intersection object at 0x32f5c13d0>, <environment.objects.intersection.Intersection object at 0x104757ac0>, <environment.objects.intersection.Intersection object at 0x104757a90>]\n"
     ]
    },
    {
     "name": "stderr",
     "output_type": "stream",
     "text": [
      "2024-06-09 00:45:00.072 Python[14806:2467192] WARNING: Secure coding is automatically enabled for restorable state! However, not on all supported macOS versions of this application. Opt-in to secure coding explicitly by implementing NSApplicationDelegate.applicationSupportsSecureRestorableState:.\n",
      "/Users/vladberaru/User Documents/Licenta/model.py:56: UserWarning: Creating a tensor from a list of numpy.ndarrays is extremely slow. Please consider converting the list to a single numpy.ndarray with numpy.array() before converting to a tensor. (Triggered internally at /Users/runner/work/pytorch/pytorch/pytorch/torch/csrc/utils/tensor_new.cpp:281.)\n",
      "  state = torch.tensor(state, dtype=torch.float, device=self.device)\n"
     ]
    },
    {
     "name": "stdout",
     "output_type": "stream",
     "text": [
      "Epo 1: |██████████████████████████████████████████████████| 100.0% Complete\n",
      "Mean score: 16.66 \n",
      "Record: 42 \n",
      "Epo mean score: 16.66 \n",
      "Epo record: 42\n",
      "Epo 2: |███████████████-----------------------------------| 31.0% Complete\r"
     ]
    }
   ],
   "source": [
    "from agent import Agent\n",
    "\n",
    "agent = Agent(\"./config/config2.json\")\n",
    "results = agent.train(number_of_epos=100, show_ui=False, show_plot=False, exploration_games_ratio=0.1)"
   ]
  },
  {
   "cell_type": "code",
   "execution_count": null,
   "metadata": {},
   "outputs": [],
   "source": [
    "from helper import plot\n",
    "\n",
    "plot(results.score.scores, results.score.mean_scores)"
   ]
  }
 ],
 "metadata": {
  "kernelspec": {
   "display_name": ".venv",
   "language": "python",
   "name": "python3"
  },
  "language_info": {
   "codemirror_mode": {
    "name": "ipython",
    "version": 3
   },
   "file_extension": ".py",
   "mimetype": "text/x-python",
   "name": "python",
   "nbconvert_exporter": "python",
   "pygments_lexer": "ipython3",
   "version": "3.9.6"
  }
 },
 "nbformat": 4,
 "nbformat_minor": 2
}
