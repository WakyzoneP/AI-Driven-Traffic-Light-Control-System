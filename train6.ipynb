{
 "cells": [
  {
   "cell_type": "code",
   "execution_count": 2,
   "metadata": {},
   "outputs": [
    {
     "name": "stdout",
     "output_type": "stream",
     "text": [
      "64\n"
     ]
    },
    {
     "data": {
      "text/plain": [
       "<bound method Linear_QNet.load of Linear_QNet(\n",
       "  (linear_input): Linear(in_features=12, out_features=144, bias=True)\n",
       "  (linear_hidden_array): ModuleList(\n",
       "    (0-9): 10 x Linear(in_features=144, out_features=144, bias=True)\n",
       "  )\n",
       "  (linear_output): Linear(in_features=144, out_features=64, bias=True)\n",
       ")>"
      ]
     },
     "execution_count": 2,
     "metadata": {},
     "output_type": "execute_result"
    }
   ],
   "source": [
    "from agent import Agent\n",
    "\n",
    "agent = Agent(\"./config/config2.json\")\n",
    "results = agent.train(30, show_ui=False, show_plot=False, exploration_games_ratio=0.1)"
   ]
  }
 ],
 "metadata": {
  "kernelspec": {
   "display_name": ".venv",
   "language": "python",
   "name": "python3"
  },
  "language_info": {
   "codemirror_mode": {
    "name": "ipython",
    "version": 3
   },
   "file_extension": ".py",
   "mimetype": "text/x-python",
   "name": "python",
   "nbconvert_exporter": "python",
   "pygments_lexer": "ipython3",
   "version": "3.9.6"
  }
 },
 "nbformat": 4,
 "nbformat_minor": 2
}
